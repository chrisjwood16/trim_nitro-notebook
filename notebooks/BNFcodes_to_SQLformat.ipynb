{
 "cells": [
  {
   "cell_type": "markdown",
   "metadata": {},
   "source": [
    "# Plain BNF codes to SQL format conversion\n",
    "Enter BNF codes without formatting to return SQL compatible result"
   ]
  },
  {
   "cell_type": "code",
   "execution_count": 26,
   "metadata": {},
   "outputs": [],
   "source": [
    "def SQLformatBNFcodes(bnfcodeslist):\n",
    "    #Convert to list\n",
    "    bnfcodeslist = bnfcodes.split('\\n')\n",
    "\n",
    "    #Remove empty list items\n",
    "    bnfcodeslist = list(filter(None, bnfcodeslist))\n",
    "\n",
    "    #Remove duplicate codes\n",
    "    bnfcodeslist = list(set(bnfcodeslist))\n",
    "\n",
    "    #Convert to quoted, comma seperated list\n",
    "    bnfcodesstring = ', '.join(f'\"{code}\"' for code in bnfcodeslist)\n",
    "\n",
    "    return bnfcodesstring"
   ]
  },
  {
   "cell_type": "code",
   "execution_count": 29,
   "metadata": {},
   "outputs": [
    {
     "data": {
      "text/plain": [
       "'\"0501080D0AAABAB\", \"0501080D0BGACAJ\", \"0501080D0AAATAT\", \"0501080D0AAAHAH\", \"0501080D0BGAAAH\", \"0501080D0AAAJAJ\", \"0501080D0BGAHAB\", \"0501080D0BGAFAC\", \"0501080D0AAAEAE\", \"0501080D0AAACAC\", \"0501080D0BGAEAE\"'"
      ]
     },
     "execution_count": 29,
     "metadata": {},
     "output_type": "execute_result"
    }
   ],
   "source": [
    "bnfcodes = '''\n",
    "0501080D0AAAJAJ\n",
    "0501080D0AAAJAJ\n",
    "0501080D0AAAJAJ\n",
    "0501080D0AAAJAJ\n",
    "0501080D0AAAJAJ\n",
    "0501080D0AAAJAJ\n",
    "0501080D0AAAJAJ\n",
    "0501080D0AAAJAJ\n",
    "0501080D0AAAJAJ\n",
    "0501080D0AAATAT\n",
    "0501080D0AAATAT\n",
    "0501080D0AAACAC\n",
    "0501080D0AAACAC\n",
    "0501080D0AAACAC\n",
    "0501080D0AAACAC\n",
    "0501080D0AAACAC\n",
    "0501080D0AAACAC\n",
    "0501080D0AAAHAH\n",
    "0501080D0AAAHAH\n",
    "0501080D0AAAHAH\n",
    "0501080D0AAAHAH\n",
    "0501080D0AAAHAH\n",
    "0501080D0AAAHAH\n",
    "0501080D0AAAHAH\n",
    "0501080D0AAAHAH\n",
    "0501080D0AAAHAH\n",
    "0501080D0AAAHAH\n",
    "0501080D0AAAHAH\n",
    "0501080D0AAAHAH\n",
    "0501080D0AAAHAH\n",
    "0501080D0AAAHAH\n",
    "0501080D0AAAHAH\n",
    "0501080D0AAAEAE\n",
    "0501080D0AAAEAE\n",
    "0501080D0AAAEAE\n",
    "0501080D0AAAEAE\n",
    "0501080D0AAABAB\n",
    "0501080D0AAABAB\n",
    "0501080D0AAABAB\n",
    "0501080D0AAABAB\n",
    "0501080D0AAABAB\n",
    "0501080D0BGAEAE\n",
    "0501080D0BGAHAB\n",
    "0501080D0BGACAJ\n",
    "0501080D0BGAFAC\n",
    "0501080D0BGAAAH\n",
    "'''\n",
    "\n",
    "bnfcodes = SQLformatBNFcodes(bnfcodeslist)\n",
    "bnfcodes\n"
   ]
  },
  {
   "cell_type": "code",
   "execution_count": null,
   "metadata": {},
   "outputs": [],
   "source": []
  }
 ],
 "metadata": {
  "jupytext": {
   "cell_metadata_filter": "all",
   "notebook_metadata_filter": "all,-language_info",
   "text_representation": {
    "extension": ".py",
    "format_name": "light",
    "format_version": "1.5",
    "jupytext_version": "1.3.3"
   }
  },
  "kernelspec": {
   "display_name": "Python 3",
   "language": "python",
   "name": "python3"
  },
  "language_info": {
   "codemirror_mode": {
    "name": "ipython",
    "version": 3
   },
   "file_extension": ".py",
   "mimetype": "text/x-python",
   "name": "python",
   "nbconvert_exporter": "python",
   "pygments_lexer": "ipython3",
   "version": "3.8.1"
  }
 },
 "nbformat": 4,
 "nbformat_minor": 4
}
